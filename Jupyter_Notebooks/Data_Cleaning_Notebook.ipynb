{
 "cells": [
  {
   "cell_type": "markdown",
   "metadata": {},
   "source": [
    "---"
   ]
  },
  {
   "cell_type": "markdown",
   "metadata": {},
   "source": [
    "## NOTEBOOK PURPOSE\n",
    "\n",
    "##### The purpose of this notebook is to show how the data was cleaned and where the new csv was saved to so it can be used in its own notebook for further breakdown, analysis, and visualization."
   ]
  },
  {
   "cell_type": "markdown",
   "metadata": {},
   "source": [
    "---"
   ]
  },
  {
   "cell_type": "code",
   "execution_count": 1,
   "metadata": {},
   "outputs": [],
   "source": [
    "import pandas as pd"
   ]
  },
  {
   "cell_type": "markdown",
   "metadata": {},
   "source": [
    "# Data Cleaning for Mass Shooting Data"
   ]
  },
  {
   "cell_type": "code",
   "execution_count": 2,
   "metadata": {},
   "outputs": [],
   "source": [
    "# reading in all mass shooting data as their own dataframe\n",
    "data2014 = pd.read_csv('RawDatasets/mass_shooting_2014_gva.csv')\n",
    "data2015 = pd.read_csv('RawDatasets/mass_shooting_2015_gva.csv')\n",
    "data2016 = pd.read_csv('RawDatasets/mass_shooting_2016_gva.csv')\n",
    "data2017 = pd.read_csv('RawDatasets/mass_shooting_2017_gva.csv')\n",
    "data2018 = pd.read_csv('RawDatasets/mass_shooting_2018_gva.csv')"
   ]
  },
  {
   "cell_type": "code",
   "execution_count": 3,
   "metadata": {},
   "outputs": [],
   "source": [
    "# creating new dataframe by appending all the dataframes together\n",
    "# dropped unnecessary 'operations' column\n",
    "# converted the 'incident date' to proper datetime format, extracted the year into it's own column for aggregation\n",
    "mass_shooting_full_data = data2014.append([data2015,data2016,data2017,data2018])\n",
    "mass_shooting_full_data = mass_shooting_full_data.reset_index(drop=True)\n",
    "mass_shooting_full_data = mass_shooting_full_data.drop('Operations', axis=1)\n",
    "mass_shooting_full_data['Incident Date'] = pd.to_datetime(mass_shooting_full_data['Incident Date'])\n",
    "mass_shooting_full_data['Year'] = mass_shooting_full_data['Incident Date'].dt.year"
   ]
  },
  {
   "cell_type": "code",
   "execution_count": 4,
   "metadata": {},
   "outputs": [
    {
     "data": {
      "text/html": [
       "<div>\n",
       "<style scoped>\n",
       "    .dataframe tbody tr th:only-of-type {\n",
       "        vertical-align: middle;\n",
       "    }\n",
       "\n",
       "    .dataframe tbody tr th {\n",
       "        vertical-align: top;\n",
       "    }\n",
       "\n",
       "    .dataframe thead th {\n",
       "        text-align: right;\n",
       "    }\n",
       "</style>\n",
       "<table border=\"1\" class=\"dataframe\">\n",
       "  <thead>\n",
       "    <tr style=\"text-align: right;\">\n",
       "      <th></th>\n",
       "      <th>Incident Date</th>\n",
       "      <th>State</th>\n",
       "      <th>City Or County</th>\n",
       "      <th>Address</th>\n",
       "      <th># Killed</th>\n",
       "      <th># Injured</th>\n",
       "      <th>Year</th>\n",
       "    </tr>\n",
       "  </thead>\n",
       "  <tbody>\n",
       "    <tr>\n",
       "      <th>0</th>\n",
       "      <td>2014-12-29</td>\n",
       "      <td>Louisiana</td>\n",
       "      <td>New Orleans</td>\n",
       "      <td>Poydras and Bolivar</td>\n",
       "      <td>0</td>\n",
       "      <td>4</td>\n",
       "      <td>2014</td>\n",
       "    </tr>\n",
       "    <tr>\n",
       "      <th>1</th>\n",
       "      <td>2014-12-27</td>\n",
       "      <td>California</td>\n",
       "      <td>Los Angeles</td>\n",
       "      <td>8800 block of South Figueroa Street</td>\n",
       "      <td>1</td>\n",
       "      <td>3</td>\n",
       "      <td>2014</td>\n",
       "    </tr>\n",
       "    <tr>\n",
       "      <th>2</th>\n",
       "      <td>2014-12-27</td>\n",
       "      <td>California</td>\n",
       "      <td>Sacramento</td>\n",
       "      <td>4000 block of May Street</td>\n",
       "      <td>0</td>\n",
       "      <td>4</td>\n",
       "      <td>2014</td>\n",
       "    </tr>\n",
       "    <tr>\n",
       "      <th>3</th>\n",
       "      <td>2014-12-26</td>\n",
       "      <td>Illinois</td>\n",
       "      <td>East St. Louis</td>\n",
       "      <td>2500 block of Summit Avenue</td>\n",
       "      <td>1</td>\n",
       "      <td>3</td>\n",
       "      <td>2014</td>\n",
       "    </tr>\n",
       "    <tr>\n",
       "      <th>4</th>\n",
       "      <td>2014-12-24</td>\n",
       "      <td>Missouri</td>\n",
       "      <td>Saint Louis</td>\n",
       "      <td>18th and Pine</td>\n",
       "      <td>1</td>\n",
       "      <td>3</td>\n",
       "      <td>2014</td>\n",
       "    </tr>\n",
       "  </tbody>\n",
       "</table>\n",
       "</div>"
      ],
      "text/plain": [
       "  Incident Date       State  City Or County  \\\n",
       "0    2014-12-29   Louisiana     New Orleans   \n",
       "1    2014-12-27  California     Los Angeles   \n",
       "2    2014-12-27  California      Sacramento   \n",
       "3    2014-12-26    Illinois  East St. Louis   \n",
       "4    2014-12-24    Missouri     Saint Louis   \n",
       "\n",
       "                               Address  # Killed  # Injured  Year  \n",
       "0                  Poydras and Bolivar         0          4  2014  \n",
       "1  8800 block of South Figueroa Street         1          3  2014  \n",
       "2             4000 block of May Street         0          4  2014  \n",
       "3          2500 block of Summit Avenue         1          3  2014  \n",
       "4                        18th and Pine         1          3  2014  "
      ]
     },
     "execution_count": 4,
     "metadata": {},
     "output_type": "execute_result"
    }
   ],
   "source": [
    "mass_shooting_full_data.head()"
   ]
  },
  {
   "cell_type": "code",
   "execution_count": 5,
   "metadata": {},
   "outputs": [],
   "source": [
    "# exporting as a new, cleaned csv for use in other notebooks\n",
    "mass_shooting_full_data.to_csv('CleanDatasets/mass_shooting_full_data.csv', index=False)"
   ]
  },
  {
   "cell_type": "markdown",
   "metadata": {},
   "source": [
    "---"
   ]
  },
  {
   "cell_type": "markdown",
   "metadata": {},
   "source": [
    "# Data Cleaning for School Gun Violence Data"
   ]
  },
  {
   "cell_type": "code",
   "execution_count": 6,
   "metadata": {},
   "outputs": [],
   "source": [
    "# read in data into a dataframe \n",
    "# dropped unnecessary 'Unnamed: 0' column\n",
    "# converted the 'date' to proper datetime format, extracted the year into it's own column for aggregation\n",
    "school_shootings = pd.read_csv('RawDatasets/pah_us_school_gun_violence_amaral_lab.csv')\n",
    "school_shootings = school_shootings.drop('Unnamed: 0', axis=1)\n",
    "school_shootings['Date'] = pd.to_datetime(school_shootings['Date'])\n",
    "school_shootings['Year'] = school_shootings['Date'].dt.year"
   ]
  },
  {
   "cell_type": "code",
   "execution_count": 7,
   "metadata": {},
   "outputs": [
    {
     "data": {
      "text/html": [
       "<div>\n",
       "<style scoped>\n",
       "    .dataframe tbody tr th:only-of-type {\n",
       "        vertical-align: middle;\n",
       "    }\n",
       "\n",
       "    .dataframe tbody tr th {\n",
       "        vertical-align: top;\n",
       "    }\n",
       "\n",
       "    .dataframe thead th {\n",
       "        text-align: right;\n",
       "    }\n",
       "</style>\n",
       "<table border=\"1\" class=\"dataframe\">\n",
       "  <thead>\n",
       "    <tr style=\"text-align: right;\">\n",
       "      <th></th>\n",
       "      <th>Date</th>\n",
       "      <th>City</th>\n",
       "      <th>State</th>\n",
       "      <th>AreaType</th>\n",
       "      <th>School</th>\n",
       "      <th>Fatalities</th>\n",
       "      <th>Year</th>\n",
       "    </tr>\n",
       "  </thead>\n",
       "  <tbody>\n",
       "    <tr>\n",
       "      <th>0</th>\n",
       "      <td>1990-05-20</td>\n",
       "      <td>Centerville</td>\n",
       "      <td>Tennessee</td>\n",
       "      <td>suburban</td>\n",
       "      <td>HS</td>\n",
       "      <td>1</td>\n",
       "      <td>1990</td>\n",
       "    </tr>\n",
       "    <tr>\n",
       "      <th>1</th>\n",
       "      <td>1990-08-26</td>\n",
       "      <td>Las Vegas</td>\n",
       "      <td>Nevada</td>\n",
       "      <td>urban</td>\n",
       "      <td>HS</td>\n",
       "      <td>1</td>\n",
       "      <td>1990</td>\n",
       "    </tr>\n",
       "    <tr>\n",
       "      <th>2</th>\n",
       "      <td>1991-01-08</td>\n",
       "      <td>Richardson</td>\n",
       "      <td>Texas</td>\n",
       "      <td>urban</td>\n",
       "      <td>HS</td>\n",
       "      <td>0</td>\n",
       "      <td>1991</td>\n",
       "    </tr>\n",
       "    <tr>\n",
       "      <th>3</th>\n",
       "      <td>1991-04-23</td>\n",
       "      <td>Compton</td>\n",
       "      <td>California</td>\n",
       "      <td>urban</td>\n",
       "      <td>MS</td>\n",
       "      <td>1</td>\n",
       "      <td>1991</td>\n",
       "    </tr>\n",
       "    <tr>\n",
       "      <th>4</th>\n",
       "      <td>1991-09-18</td>\n",
       "      <td>Crosby</td>\n",
       "      <td>Texas</td>\n",
       "      <td>rural</td>\n",
       "      <td>HS</td>\n",
       "      <td>1</td>\n",
       "      <td>1991</td>\n",
       "    </tr>\n",
       "  </tbody>\n",
       "</table>\n",
       "</div>"
      ],
      "text/plain": [
       "        Date         City       State  AreaType School  Fatalities  Year\n",
       "0 1990-05-20  Centerville   Tennessee  suburban     HS           1  1990\n",
       "1 1990-08-26    Las Vegas      Nevada     urban     HS           1  1990\n",
       "2 1991-01-08   Richardson       Texas     urban     HS           0  1991\n",
       "3 1991-04-23      Compton  California     urban     MS           1  1991\n",
       "4 1991-09-18       Crosby       Texas     rural     HS           1  1991"
      ]
     },
     "execution_count": 7,
     "metadata": {},
     "output_type": "execute_result"
    }
   ],
   "source": [
    "school_shootings.head()"
   ]
  },
  {
   "cell_type": "code",
   "execution_count": 8,
   "metadata": {},
   "outputs": [],
   "source": [
    "# exporting as a new, cleaned csv for use in other notebooks\n",
    "school_shootings.to_csv('CleanDatasets/school_shootings.csv', index=False)"
   ]
  },
  {
   "cell_type": "markdown",
   "metadata": {},
   "source": [
    "---"
   ]
  },
  {
   "cell_type": "markdown",
   "metadata": {},
   "source": [
    "# Data Cleaning for Gun Death Data"
   ]
  },
  {
   "cell_type": "code",
   "execution_count": 9,
   "metadata": {},
   "outputs": [
    {
     "data": {
      "text/html": [
       "<div>\n",
       "<style scoped>\n",
       "    .dataframe tbody tr th:only-of-type {\n",
       "        vertical-align: middle;\n",
       "    }\n",
       "\n",
       "    .dataframe tbody tr th {\n",
       "        vertical-align: top;\n",
       "    }\n",
       "\n",
       "    .dataframe thead th {\n",
       "        text-align: right;\n",
       "    }\n",
       "</style>\n",
       "<table border=\"1\" class=\"dataframe\">\n",
       "  <thead>\n",
       "    <tr style=\"text-align: right;\">\n",
       "      <th></th>\n",
       "      <th>year</th>\n",
       "      <th>month</th>\n",
       "      <th>intent</th>\n",
       "      <th>police</th>\n",
       "      <th>sex</th>\n",
       "      <th>age</th>\n",
       "      <th>race</th>\n",
       "      <th>hispanic</th>\n",
       "      <th>place</th>\n",
       "      <th>education</th>\n",
       "    </tr>\n",
       "  </thead>\n",
       "  <tbody>\n",
       "    <tr>\n",
       "      <th>0</th>\n",
       "      <td>2012</td>\n",
       "      <td>1</td>\n",
       "      <td>Suicide</td>\n",
       "      <td>0</td>\n",
       "      <td>M</td>\n",
       "      <td>34.0</td>\n",
       "      <td>Asian/Pacific Islander</td>\n",
       "      <td>100</td>\n",
       "      <td>Home</td>\n",
       "      <td>BA+</td>\n",
       "    </tr>\n",
       "    <tr>\n",
       "      <th>1</th>\n",
       "      <td>2012</td>\n",
       "      <td>1</td>\n",
       "      <td>Suicide</td>\n",
       "      <td>0</td>\n",
       "      <td>F</td>\n",
       "      <td>21.0</td>\n",
       "      <td>White</td>\n",
       "      <td>100</td>\n",
       "      <td>Street</td>\n",
       "      <td>Some college</td>\n",
       "    </tr>\n",
       "    <tr>\n",
       "      <th>2</th>\n",
       "      <td>2012</td>\n",
       "      <td>1</td>\n",
       "      <td>Suicide</td>\n",
       "      <td>0</td>\n",
       "      <td>M</td>\n",
       "      <td>60.0</td>\n",
       "      <td>White</td>\n",
       "      <td>100</td>\n",
       "      <td>Other specified</td>\n",
       "      <td>BA+</td>\n",
       "    </tr>\n",
       "    <tr>\n",
       "      <th>3</th>\n",
       "      <td>2012</td>\n",
       "      <td>2</td>\n",
       "      <td>Suicide</td>\n",
       "      <td>0</td>\n",
       "      <td>M</td>\n",
       "      <td>64.0</td>\n",
       "      <td>White</td>\n",
       "      <td>100</td>\n",
       "      <td>Home</td>\n",
       "      <td>BA+</td>\n",
       "    </tr>\n",
       "    <tr>\n",
       "      <th>4</th>\n",
       "      <td>2012</td>\n",
       "      <td>2</td>\n",
       "      <td>Suicide</td>\n",
       "      <td>0</td>\n",
       "      <td>M</td>\n",
       "      <td>31.0</td>\n",
       "      <td>White</td>\n",
       "      <td>100</td>\n",
       "      <td>Other specified</td>\n",
       "      <td>HS/GED</td>\n",
       "    </tr>\n",
       "  </tbody>\n",
       "</table>\n",
       "</div>"
      ],
      "text/plain": [
       "   year  month   intent  police sex   age                    race  hispanic  \\\n",
       "0  2012      1  Suicide       0   M  34.0  Asian/Pacific Islander       100   \n",
       "1  2012      1  Suicide       0   F  21.0                   White       100   \n",
       "2  2012      1  Suicide       0   M  60.0                   White       100   \n",
       "3  2012      2  Suicide       0   M  64.0                   White       100   \n",
       "4  2012      2  Suicide       0   M  31.0                   White       100   \n",
       "\n",
       "             place     education  \n",
       "0             Home           BA+  \n",
       "1           Street  Some college  \n",
       "2  Other specified           BA+  \n",
       "3             Home           BA+  \n",
       "4  Other specified        HS/GED  "
      ]
     },
     "execution_count": 9,
     "metadata": {},
     "output_type": "execute_result"
    }
   ],
   "source": [
    "# no real cleaning needed for this dataset\n",
    "gun_deaths = pd.read_csv('RawDatasets/2012-2014_gun_death_data_CDC.csv')\n",
    "gun_deaths.head()"
   ]
  },
  {
   "cell_type": "code",
   "execution_count": 10,
   "metadata": {},
   "outputs": [],
   "source": [
    "# exporting as a new, cleaned csv for use in other notebooks\n",
    "gun_deaths.to_csv('CleanDatasets/gun_deaths.csv', index=False)"
   ]
  },
  {
   "cell_type": "code",
   "execution_count": null,
   "metadata": {},
   "outputs": [],
   "source": []
  }
 ],
 "metadata": {
  "kernelspec": {
   "display_name": "Python 3",
   "language": "python",
   "name": "python3"
  },
  "language_info": {
   "codemirror_mode": {
    "name": "ipython",
    "version": 3
   },
   "file_extension": ".py",
   "mimetype": "text/x-python",
   "name": "python",
   "nbconvert_exporter": "python",
   "pygments_lexer": "ipython3",
   "version": "3.7.1"
  }
 },
 "nbformat": 4,
 "nbformat_minor": 2
}
